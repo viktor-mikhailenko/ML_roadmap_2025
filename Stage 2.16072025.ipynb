{
 "cells": [
  {
   "cell_type": "code",
   "id": "initial_id",
   "metadata": {
    "collapsed": true,
    "ExecuteTime": {
     "end_time": "2025-07-16T14:56:30.916155Z",
     "start_time": "2025-07-16T14:56:30.914020Z"
    }
   },
   "source": [
    "import numpy as np\n",
    "import pandas as pd\n",
    "import math\n",
    "import random\n",
    "import csv"
   ],
   "outputs": [],
   "execution_count": 58
  },
  {
   "metadata": {
    "ExecuteTime": {
     "end_time": "2025-07-16T14:56:32.075918Z",
     "start_time": "2025-07-16T14:56:32.072888Z"
    }
   },
   "cell_type": "code",
   "source": [
    "#Пример: Генерация и сортировка случайных чисел\n",
    "import random\n",
    "numbers = [random.randint(1, 50) for _ in range(10)]\n",
    "numbers.sort()\n",
    "a = sum(numbers)/len(numbers)\n",
    "print(\"Отсортированный список:\", numbers)\n",
    "print(\"Среднее значение:\", a)"
   ],
   "id": "d2d5cd8e13076535",
   "outputs": [
    {
     "name": "stdout",
     "output_type": "stream",
     "text": [
      "Отсортированный список: [5, 6, 16, 25, 29, 31, 33, 34, 38, 44]\n",
      "Среднее значение: 26.1\n"
     ]
    }
   ],
   "execution_count": 59
  },
  {
   "metadata": {
    "ExecuteTime": {
     "end_time": "2025-07-16T14:56:32.308534Z",
     "start_time": "2025-07-16T14:56:32.305231Z"
    }
   },
   "cell_type": "code",
   "source": [
    "v1 = np.array([1, 2, 3])\n",
    "v2 = np.array([4, 5, 6])\n",
    "sum_v = v1 + v2\n",
    "umnojenie_na_skalar = v1*2\n",
    "sr_znachenie = np.mean(v1)\n",
    "print(\"Сумма векторов:\", sum_v)\n",
    "print(\"Среднее значение вектора v1:\", sr_znachenie)\n",
    "print(\"Умножение на скаляр (2):\", umnojenie_na_skalar)"
   ],
   "id": "9ce4ff1647b46b2e",
   "outputs": [
    {
     "name": "stdout",
     "output_type": "stream",
     "text": [
      "Сумма векторов: [5 7 9]\n",
      "Среднее значение вектора v1: 2.0\n",
      "Умножение на скаляр (2): [2 4 6]\n"
     ]
    }
   ],
   "execution_count": 60
  },
  {
   "metadata": {
    "ExecuteTime": {
     "end_time": "2025-07-16T15:11:02.342962Z",
     "start_time": "2025-07-16T15:11:02.339046Z"
    }
   },
   "cell_type": "code",
   "source": [
    "# Создаем файл data.csv с 5 случайными числами\n",
    "with open('data1.csv', 'w', newline='') as file:\n",
    "    writer = csv.writer(file)\n",
    "    for _ in range(5):\n",
    "        writer.writerow([random.randint(1, 100)])\n",
    "\n",
    "# Читаем файл и вычисляем сумму\n",
    "total_sum = 0\n",
    "with open('data1.csv', 'r') as file:\n",
    "    reader = csv.reader(file)\n",
    "    for row in reader:\n",
    "        total_sum += int(row[0])\n",
    "\n",
    "# Выводим содержимое файла и сумму\n",
    "print(\"Содержимое файла data.csv:\")\n",
    "with open('data1.csv', 'r') as file:\n",
    "    print(file.read())\n",
    "print(\"Сумма чисел:\", total_sum)"
   ],
   "id": "22a60c0f71538cee",
   "outputs": [
    {
     "name": "stdout",
     "output_type": "stream",
     "text": [
      "Содержимое файла data.csv:\n",
      "87\n",
      "99\n",
      "68\n",
      "17\n",
      "82\n",
      "\n",
      "Сумма чисел: 353\n"
     ]
    }
   ],
   "execution_count": 67
  },
  {
   "metadata": {
    "ExecuteTime": {
     "end_time": "2025-07-16T15:22:06.041677Z",
     "start_time": "2025-07-16T15:22:06.037521Z"
    }
   },
   "cell_type": "code",
   "source": [
    "with open('data2.csv', 'w', newline='') as file:\n",
    "    writer = csv.writer(file)\n",
    "    for _ in range(5):\n",
    "        num = random.randint(1, 100)\n",
    "        writer.writerow([num, num ** 2])  # Добавляем квадрат числа\n",
    "\n",
    "total_sum = 0\n",
    "with open('data2.csv', 'r') as file:\n",
    "    reader = csv.reader(file)\n",
    "    for row in reader:\n",
    "        total_sum += int(row[1])\n",
    "\n",
    "print(\"Содержимое файла data.csv:\")\n",
    "with open('data2.csv', 'r') as file:\n",
    "    print(file.read())\n",
    "print(\"Сумма чисел:\", total_sum)"
   ],
   "id": "d3ebbd22e9f1a74c",
   "outputs": [
    {
     "name": "stdout",
     "output_type": "stream",
     "text": [
      "Содержимое файла data.csv:\n",
      "56,3136\n",
      "5,25\n",
      "79,6241\n",
      "86,7396\n",
      "6,36\n",
      "\n",
      "Сумма чисел: 16834\n"
     ]
    }
   ],
   "execution_count": 90
  },
  {
   "metadata": {
    "ExecuteTime": {
     "end_time": "2025-07-16T15:20:44.123815Z",
     "start_time": "2025-07-16T15:20:44.122008Z"
    }
   },
   "cell_type": "code",
   "source": "",
   "id": "3ffb5906b7937365",
   "outputs": [],
   "execution_count": null
  }
 ],
 "metadata": {
  "kernelspec": {
   "display_name": "Python 3",
   "language": "python",
   "name": "python3"
  },
  "language_info": {
   "codemirror_mode": {
    "name": "ipython",
    "version": 2
   },
   "file_extension": ".py",
   "mimetype": "text/x-python",
   "name": "python",
   "nbconvert_exporter": "python",
   "pygments_lexer": "ipython2",
   "version": "2.7.6"
  }
 },
 "nbformat": 4,
 "nbformat_minor": 5
}
