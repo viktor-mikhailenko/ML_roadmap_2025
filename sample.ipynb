{
 "cells": [
  {
   "metadata": {},
   "cell_type": "markdown",
   "source": [
    "# This is a sample Jupyter Notebook\n",
    "\n",
    "Below is an example of a code cell. \n",
    "Put your cursor into the cell and press Shift+Enter to execute it and select the next one, or click 'Run Cell' button.\n",
    "\n",
    "Press Double Shift to search everywhere for classes, files, tool windows, actions, and settings.\n",
    "\n",
    "To learn more about Jupyter Notebooks in PyCharm, see [help](https://www.jetbrains.com/help/pycharm/ipython-notebook-support.html).\n",
    "For an overview of PyCharm, go to Help -> Learn IDE features or refer to [our documentation](https://www.jetbrains.com/help/pycharm/getting-started.html)."
   ],
   "id": "8a77807f92f26ee"
  },
  {
   "metadata": {
    "ExecuteTime": {
     "end_time": "2025-07-15T22:48:36.430733Z",
     "start_time": "2025-07-15T22:48:32.136548Z"
    }
   },
   "cell_type": "code",
   "source": [
    "import math\n",
    "values = input().strip().split('\\n')\n",
    "a, b, c, d, f = map(float, values)\n",
    "print(a+b+c+d+f)\n",
    "print((a+b+c+d+f)/5)"
   ],
   "id": "fbc121e30a2defb3",
   "outputs": [
    {
     "name": "stdout",
     "output_type": "stream",
     "text": [
      "15.0\n",
      "3.0\n"
     ]
    }
   ],
   "execution_count": 2
  },
  {
   "metadata": {
    "ExecuteTime": {
     "end_time": "2025-07-15T22:50:07.227103Z",
     "start_time": "2025-07-15T22:50:07.224589Z"
    }
   },
   "cell_type": "code",
   "source": [
    "def get_even(numbers):\n",
    "    return [num for num in numbers if num % 2 == 0]\n"
   ],
   "id": "d549c871df4fd187",
   "outputs": [],
   "execution_count": 3
  },
  {
   "metadata": {
    "ExecuteTime": {
     "end_time": "2025-07-15T22:50:37.317746Z",
     "start_time": "2025-07-15T22:50:37.315244Z"
    }
   },
   "cell_type": "code",
   "source": [
    "numbers = [1,2,3,4,5,6]\n",
    "print(get_even(numbers))"
   ],
   "id": "d588839755ea7460",
   "outputs": [
    {
     "name": "stdout",
     "output_type": "stream",
     "text": [
      "[2, 4, 6]\n"
     ]
    }
   ],
   "execution_count": 4
  },
  {
   "metadata": {
    "ExecuteTime": {
     "end_time": "2025-07-15T22:54:35.618742Z",
     "start_time": "2025-07-15T22:54:35.616284Z"
    }
   },
   "cell_type": "code",
   "source": [
    "def vector_add(v1, v2):\n",
    "    if len(v1) != len(v2):\n",
    "        raise ValueError(\"Векторы должны быть одинаковой длины\")\n",
    "    return [v1[i] + v2[i] for i in range(len(v1))]\n"
   ],
   "id": "ce4c8eacf56f3ca2",
   "outputs": [],
   "execution_count": 6
  },
  {
   "metadata": {
    "ExecuteTime": {
     "end_time": "2025-07-15T22:54:50.882458Z",
     "start_time": "2025-07-15T22:54:50.880256Z"
    }
   },
   "cell_type": "code",
   "source": [
    "def vector_scalar_mult(v, scalar):\n",
    "    return [scalar * x for x in v]"
   ],
   "id": "40a653d94363c105",
   "outputs": [],
   "execution_count": 7
  },
  {
   "metadata": {
    "ExecuteTime": {
     "end_time": "2025-07-15T22:57:06.866031Z",
     "start_time": "2025-07-15T22:57:06.864064Z"
    }
   },
   "cell_type": "code",
   "source": [
    "def vector_length(v):\n",
    "    return math.sqrt(sum(x * x for x in v))"
   ],
   "id": "41014452aa31378a",
   "outputs": [],
   "execution_count": 10
  },
  {
   "metadata": {
    "ExecuteTime": {
     "end_time": "2025-07-15T23:01:21.517119Z",
     "start_time": "2025-07-15T23:01:21.515592Z"
    }
   },
   "cell_type": "code",
   "source": "import numpy as np",
   "id": "aee42ce1960123c9",
   "outputs": [],
   "execution_count": 18
  },
  {
   "metadata": {
    "ExecuteTime": {
     "end_time": "2025-07-15T23:03:11.578760Z",
     "start_time": "2025-07-15T23:03:11.576314Z"
    }
   },
   "cell_type": "code",
   "source": [
    "a = np.array([1,2,3,4,5,6])\n",
    "b = np.array([1,2,3,4,5,6])\n",
    "print(a.shape)\n"
   ],
   "id": "b41e4c3f528bd8a8",
   "outputs": [
    {
     "name": "stdout",
     "output_type": "stream",
     "text": [
      "(6,)\n"
     ]
    }
   ],
   "execution_count": 22
  },
  {
   "metadata": {
    "ExecuteTime": {
     "end_time": "2025-07-15T23:07:41.087614Z",
     "start_time": "2025-07-15T23:07:41.084273Z"
    }
   },
   "cell_type": "code",
   "source": [
    "v1 = np.array([1, 2, 3])\n",
    "v2 = np.array([4, 5, 6])\n",
    "sum_result = v1 + v2\n",
    "scalar = 2\n",
    "scalar_result = scalar * v1\n",
    "print(\"Вектор 1:\", v1)\n",
    "print(\"Вектор 2:\", v2)\n",
    "print(\"Сложение:\", sum_result)\n",
    "print(\"Умножение на скаляр (2):\", scalar_result)"
   ],
   "id": "4e0f6e947bb7bb8c",
   "outputs": [
    {
     "name": "stdout",
     "output_type": "stream",
     "text": [
      "Вектор 1: [1 2 3]\n",
      "Вектор 2: [4 5 6]\n",
      "Сложение: [5 7 9]\n",
      "Умножение на скаляр (2): [2 4 6]\n"
     ]
    }
   ],
   "execution_count": 23
  },
  {
   "metadata": {},
   "cell_type": "code",
   "outputs": [],
   "execution_count": null,
   "source": "",
   "id": "f09a137cd02243ed"
  }
 ],
 "metadata": {
  "kernelspec": {
   "display_name": "Python 3",
   "language": "python",
   "name": "python3"
  },
  "language_info": {
   "codemirror_mode": {
    "name": "ipython",
    "version": 2
   },
   "file_extension": ".py",
   "mimetype": "text/x-python",
   "name": "python",
   "nbconvert_exporter": "python",
   "pygments_lexer": "ipython2",
   "version": "2.7.6"
  }
 },
 "nbformat": 4,
 "nbformat_minor": 5
}
